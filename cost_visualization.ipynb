{
 "cells": [
  {
   "cell_type": "code",
   "execution_count": 1,
   "id": "7e60c9d5",
   "metadata": {},
   "outputs": [],
   "source": [
    "import boto3\n",
    "import pandas as pd\n",
    "import numpy as np\n",
    "from boto3 import client\n",
    "import os\n",
    "# Let's use Amazon S3\n",
    "s3 = boto3.resource('s3')"
   ]
  },
  {
   "cell_type": "code",
   "execution_count": 2,
   "id": "917ca7d3",
   "metadata": {},
   "outputs": [],
   "source": [
    "buckets_check = []\n",
    "# Print out bucket names\n",
    "for bucket in s3.buckets.all():\n",
    "    name = bucket.name\n",
    "    if name not in ['log.maymobility.com','japan-logs-maymobility','data-pipeline.maymobility.com','log.japan.maymobility.com']:\n",
    "        buckets_check.append(name)"
   ]
  },
  {
   "cell_type": "code",
   "execution_count": 3,
   "id": "7dc9ee38",
   "metadata": {},
   "outputs": [],
   "source": [
    "buckets_check = pd.DataFrame(buckets_check,columns = ['bucket_name'])"
   ]
  },
  {
   "cell_type": "code",
   "execution_count": 4,
   "id": "06795b62",
   "metadata": {},
   "outputs": [],
   "source": [
    "def get_bucket_size(bucket_name):\n",
    "    size = {}\n",
    "    try:\n",
    "        for object in boto3.resource('s3').Bucket(bucket_name).objects.all():\n",
    "            if object.storage_class in size:\n",
    "                size[object.storage_class] += object.size\n",
    "            else:\n",
    "                size[object.storage_class] = object.size\n",
    "        print(bucket_name, size)\n",
    "        return size\n",
    "    except:\n",
    "        print(bucket_name,'not working')\n",
    "        return 'none'\n",
    "# storage class\n"
   ]
  },
  {
   "cell_type": "code",
   "execution_count": 5,
   "id": "121206e2",
   "metadata": {},
   "outputs": [
    {
     "name": "stdout",
     "output_type": "stream",
     "text": [
      "airflow-data-maymobility.com {}\n",
      "amazon-connect-b275969a4e94 {}\n",
      "annotations.simdata.maymobility.com {'STANDARD': 1211252819282}\n",
      "applied.maymobility.com {'STANDARD': 503375161632}\n",
      "artifacts.code.maymobility.com {'STANDARD': 16887411630}\n",
      "assetprotection.maymobility.com {'STANDARD': 686524497}\n",
      "audit-log.maymobility.com not working\n",
      "auto-snipping {'STANDARD': 9957771147286}\n",
      "aws-simplewebstreaming-hostingbucket-783236726606-dev {'STANDARD': 12645473}\n",
      "backup.maymobility.com {'GLACIER': 73187852300927}\n",
      "cdn.code.maymobility.com {}\n",
      "cf-templates-18g0p5n6agm8r-us-east-1 {'STANDARD': 21733}\n",
      "cloudtrail-logs-maymobility {'STANDARD': 459017}\n",
      "compressed-logs-may {}\n",
      "config-bucket-783236726606 {'STANDARD': 9205614}\n",
      "crl.its.maymobility.com {'STANDARD': 1090}\n",
      "dashboard.maymobility.com {}\n",
      "dependency-proxy.code.maymobility.com {}\n",
      "docs.api.maymobility.com {'STANDARD': 21459}\n",
      "eks-quickstart-lambdazips-us-east-2-783236726606 {'STANDARD': 333161777}\n",
      "external-diffs.code.maymobility.com {}\n",
      "gitlab-runner-cache.maymobility.com {}\n",
      "global.maymobility.com {'STANDARD': 9216579}\n",
      "gsuite-archive.maymobility.com {'STANDARD': 508}\n",
      "help.may.network {}\n",
      "indy-snow {'STANDARD': 0}\n",
      "interventions-maymobility {'INTELLIGENT_TIERING': 6704906653331, 'STANDARD': 2007918054117}\n",
      "it-aws-backup.maymobility.com {}\n",
      "ivs-log.sdi.maymobility.com {}\n",
      "ivs-webrtc-codebuild-e5684116378d {}\n",
      "japan-data-pipeline-maymobility {'STANDARD': 4711241935, 'INTELLIGENT_TIERING': 122872864717}\n",
      "lfs-objects.code.maymobility.com {'STANDARD': 123212220920}\n",
      "live.its.maymobility.com {}\n",
      "live.maymobility.com {'STANDARD': 9521}\n",
      "log-deletion-maymobility {'STANDARD': 24041521}\n",
      "log-test.maymobility.com {}\n",
      "may-reference-logs {'STANDARD': 4448954138263, 'INTELLIGENT_TIERING': 48746780458392}\n",
      "may-root-tfstate-us-east-1 {'STANDARD': 30278}\n",
      "may-scaleapi-interface {'STANDARD': 5028366277}\n",
      "may-veeam-replication {'STANDARD': 1053680258828}\n",
      "may.network {'STANDARD': 63949}\n",
      "maymobility.com {'STANDARD': 1205888467}\n",
      "maymobility.jp {}\n",
      "nas-backup.maymobility.com {'STANDARD': 26809956090, 'INTELLIGENT_TIERING': 1864584433350}\n",
      "ohio-snow {}\n",
      "ohio-snow.log.maymobility.com {}\n",
      "ottometric.maymobility.com {'STANDARD': 1285476330, 'DEEP_ARCHIVE': 8788645988122}\n",
      "packages.code.maymobility.com {'STANDARD': 888495789}\n",
      "pages.code.maymobility.com {}\n",
      "playment.simdata.maymobility.com {'STANDARD': 3602361692}\n",
      "providence-data-api-prod-serverlessdeploymentbuck-1d2484el9pr81 {'STANDARD': 411954529}\n",
      "providence-data-api-test-serverlessdeploymentbuck-1deofsjhkz61j {'STANDARD': 421359962}\n",
      "remote-work-ap {'STANDARD': 0}\n",
      "s3.snow.log {}\n",
      "sagemaker-maymobility-com {'STANDARD': 31906578}\n",
      "sagemaker.simdata.maymobility.com {'STANDARD': 1886953794}\n",
      "scaleapi.simdata.maymobility.com {'STANDARD': 127905384532}\n",
      "section31.may.network {'STANDARD': 52592}\n",
      "serverless-slack-dev-serverlessdeploymentbucket-1fudj1bp1aqie {'STANDARD': 48840271}\n",
      "simian.simdata.maymobility.com {'STANDARD': 314419745920, 'GLACIER': 735163191296}\n",
      "slack.maymobility.com {}\n",
      "snow.log.maymobility.com {}\n",
      "terraform-state.code.maymobility.com {}\n",
      "tmp.maymobility.com {'STANDARD': 697}\n",
      "tsig-classifications.annotations.simdata.maymobility.com {'STANDARD': 1091193}\n",
      "uploads.code.maymobility.com {'STANDARD': 2090322685}\n",
      "use1.parent.tf-state.maymobility.com {'STANDARD': 156}\n",
      "via-maymobility {}\n",
      "www.maymobility.com {}\n"
     ]
    }
   ],
   "source": [
    "buckets_check['bucket_size'] = buckets_check.apply(lambda x: get_bucket_size(x.bucket_name),axis = 1)"
   ]
  },
  {
   "cell_type": "code",
   "execution_count": 47,
   "id": "286ceeec",
   "metadata": {},
   "outputs": [
    {
     "data": {
      "text/html": [
       "<div>\n",
       "<style scoped>\n",
       "    .dataframe tbody tr th:only-of-type {\n",
       "        vertical-align: middle;\n",
       "    }\n",
       "\n",
       "    .dataframe tbody tr th {\n",
       "        vertical-align: top;\n",
       "    }\n",
       "\n",
       "    .dataframe thead th {\n",
       "        text-align: right;\n",
       "    }\n",
       "</style>\n",
       "<table border=\"1\" class=\"dataframe\">\n",
       "  <thead>\n",
       "    <tr style=\"text-align: right;\">\n",
       "      <th></th>\n",
       "      <th>bucket_name</th>\n",
       "      <th>bucket_size</th>\n",
       "    </tr>\n",
       "  </thead>\n",
       "  <tbody>\n",
       "    <tr>\n",
       "      <th>6</th>\n",
       "      <td>audit-log.maymobility.com</td>\n",
       "      <td>none</td>\n",
       "    </tr>\n",
       "  </tbody>\n",
       "</table>\n",
       "</div>"
      ],
      "text/plain": [
       "                 bucket_name bucket_size\n",
       "6  audit-log.maymobility.com        none"
      ]
     },
     "execution_count": 47,
     "metadata": {},
     "output_type": "execute_result"
    }
   ],
   "source": [
    "buckets_check[buckets_check.bucket_size == 'none']\n",
    "# my access to audit-log.maymobility.com is denied and I couldn't get its size"
   ]
  },
  {
   "cell_type": "code",
   "execution_count": 44,
   "id": "ca580427",
   "metadata": {},
   "outputs": [],
   "source": [
    "data = buckets_check[buckets_check.bucket_size != 'none'].bucket_size.to_list()\n",
    "result = pd.DataFrame.from_records(data,index = buckets_check[buckets_check.bucket_size != 'none'].bucket_name)"
   ]
  },
  {
   "cell_type": "code",
   "execution_count": 38,
   "id": "089e5be6",
   "metadata": {},
   "outputs": [],
   "source": [
    "result = result.fillna(0)\n",
    "result = result.astype(int)\n",
    "result['total_size'] = result.STANDARD + result.GLACIER + result.INTELLIGENT_TIERING + result.DEEP_ARCHIVE\n",
    "# size unit is byte"
   ]
  },
  {
   "cell_type": "code",
   "execution_count": 46,
   "id": "560298f4",
   "metadata": {},
   "outputs": [],
   "source": [
    "result = result.sort_values(by = 'total_size',ascending = False)"
   ]
  },
  {
   "cell_type": "code",
   "execution_count": 48,
   "id": "ca45784f",
   "metadata": {},
   "outputs": [],
   "source": [
    "result.to_csv('size_result.csv')"
   ]
  },
  {
   "cell_type": "code",
   "execution_count": null,
   "id": "0f8340a1",
   "metadata": {},
   "outputs": [],
   "source": []
  }
 ],
 "metadata": {
  "kernelspec": {
   "display_name": "Python 3 (ipykernel)",
   "language": "python",
   "name": "python3"
  },
  "language_info": {
   "codemirror_mode": {
    "name": "ipython",
    "version": 3
   },
   "file_extension": ".py",
   "mimetype": "text/x-python",
   "name": "python",
   "nbconvert_exporter": "python",
   "pygments_lexer": "ipython3",
   "version": "3.9.7"
  }
 },
 "nbformat": 4,
 "nbformat_minor": 5
}
