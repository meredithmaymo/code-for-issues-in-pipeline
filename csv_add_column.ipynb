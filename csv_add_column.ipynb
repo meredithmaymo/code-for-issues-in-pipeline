{
 "cells": [
  {
   "cell_type": "code",
   "execution_count": 1,
   "id": "e20280df",
   "metadata": {},
   "outputs": [],
   "source": [
    "import pandas as pd\n",
    "import numpy as np\n",
    "import datetime as dt"
   ]
  },
  {
   "cell_type": "code",
   "execution_count": 40,
   "id": "4d9d7274",
   "metadata": {},
   "outputs": [],
   "source": [
    "columbia = pd.read_csv('/Users/meredithmay/Desktop/mercury_columbus.csv')\n",
    "detroit = pd.read_csv('/Users/meredithmay/Desktop/mercury_detroit.csv')\n",
    "providence = pd.read_csv('/Users/meredithmay/Desktop/mercury_providence.csv')"
   ]
  },
  {
   "cell_type": "code",
   "execution_count": 45,
   "id": "eb4f9d7a",
   "metadata": {},
   "outputs": [
    {
     "data": {
      "text/plain": [
       "'2019-09-30_mimi_columbus/mcmlog_2019-09-30_08-15-53'"
      ]
     },
     "execution_count": 45,
     "metadata": {},
     "output_type": "execute_result"
    }
   ],
   "source": [
    "columbia.log_name[1]"
   ]
  },
  {
   "cell_type": "code",
   "execution_count": 46,
   "id": "a8d05f50",
   "metadata": {},
   "outputs": [
    {
     "data": {
      "text/plain": [
       "'2019-09-30_mimi_columbus/mcmlog_2019-09-30_08-15-54'"
      ]
     },
     "execution_count": 46,
     "metadata": {},
     "output_type": "execute_result"
    }
   ],
   "source": [
    "columbia.new_column[1]"
   ]
  },
  {
   "cell_type": "code",
   "execution_count": 36,
   "id": "12d2da93",
   "metadata": {},
   "outputs": [],
   "source": [
    "# def cat_letter(col):\n",
    "#     return col[:-3]\n",
    "def add_col(df):\n",
    "    change = df.log_name.apply(lambda x: x[-8:])\n",
    "    change = change.apply(lambda x: (dt.datetime.strptime(x,'%H-%M-%S')+dt.timedelta(seconds=1)).strftime('%H-%M-%S'))\n",
    "    rest = df.log_name.apply(lambda x: x[:-8])\n",
    "    df['new_column'] = rest + change\n",
    "    #df.creation_time_add_1 = df.creation_time_add_1.apply(lambda x: cat_letter(x))\n",
    "    return df"
   ]
  },
  {
   "cell_type": "code",
   "execution_count": 37,
   "id": "b2b5c0a2",
   "metadata": {},
   "outputs": [],
   "source": [
    "colum = add_col(columbia)\n",
    "detroit = add_col(detroit)\n",
    "providence = add_col(providence)"
   ]
  },
  {
   "cell_type": "code",
   "execution_count": 38,
   "id": "99037177",
   "metadata": {},
   "outputs": [],
   "source": [
    "colum = colum[['log_name','new_column']]\n",
    "detroit = detroit[['log_name','new_column']]\n",
    "providence = providence[['log_name','new_column']]"
   ]
  },
  {
   "cell_type": "code",
   "execution_count": 39,
   "id": "6eaeb479",
   "metadata": {},
   "outputs": [],
   "source": [
    "colum.to_csv('/Users/meredithmay/Desktop/mercury_columbus.csv', index = False)\n",
    "detroit.to_csv('/Users/meredithmay/Desktop/mercury_detroit.csv',index = False)\n",
    "providence.to_csv('/Users/meredithmay/Desktop/mercury_providence.csv',index = False)"
   ]
  },
  {
   "cell_type": "code",
   "execution_count": null,
   "id": "cab0a55e",
   "metadata": {},
   "outputs": [],
   "source": []
  }
 ],
 "metadata": {
  "kernelspec": {
   "display_name": "Python 3 (ipykernel)",
   "language": "python",
   "name": "python3"
  },
  "language_info": {
   "codemirror_mode": {
    "name": "ipython",
    "version": 3
   },
   "file_extension": ".py",
   "mimetype": "text/x-python",
   "name": "python",
   "nbconvert_exporter": "python",
   "pygments_lexer": "ipython3",
   "version": "3.9.7"
  }
 },
 "nbformat": 4,
 "nbformat_minor": 5
}
