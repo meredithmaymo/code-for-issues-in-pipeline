{
 "cells": [
  {
   "cell_type": "code",
   "execution_count": 1,
   "id": "bcc38077",
   "metadata": {},
   "outputs": [],
   "source": [
    "import boto3\n",
    "import pandas as pd\n",
    "import numpy as np\n",
    "from boto3 import client\n",
    "import os\n",
    "# Let's use Amazon S3\n",
    "s3 = boto3.resource('s3')"
   ]
  },
  {
   "cell_type": "code",
   "execution_count": 2,
   "id": "ec3b82ad",
   "metadata": {},
   "outputs": [
    {
     "name": "stdout",
     "output_type": "stream",
     "text": [
      "airflow-data-maymobility.com\n",
      "amazon-connect-b275969a4e94\n",
      "annotations.simdata.maymobility.com\n",
      "applied.maymobility.com\n",
      "artifacts.code.maymobility.com\n",
      "assetprotection.maymobility.com\n",
      "audit-log.maymobility.com\n",
      "auto-snipping\n",
      "aws-simplewebstreaming-hostingbucket-783236726606-dev\n",
      "backup.maymobility.com\n",
      "cdn.code.maymobility.com\n",
      "cf-templates-18g0p5n6agm8r-us-east-1\n",
      "cloudtrail-logs-maymobility\n",
      "compressed-logs-may\n",
      "config-bucket-783236726606\n",
      "crl.its.maymobility.com\n",
      "dashboard.maymobility.com\n",
      "data-pipeline.maymobility.com\n",
      "dependency-proxy.code.maymobility.com\n",
      "docs.api.maymobility.com\n",
      "eks-quickstart-lambdazips-us-east-2-783236726606\n",
      "external-diffs.code.maymobility.com\n",
      "gitlab-runner-cache.maymobility.com\n",
      "global.maymobility.com\n",
      "gsuite-archive.maymobility.com\n",
      "help.may.network\n",
      "indy-snow\n",
      "interventions-maymobility\n",
      "it-aws-backup.maymobility.com\n",
      "ivs-log.sdi.maymobility.com\n",
      "ivs-webrtc-codebuild-e5684116378d\n",
      "japan-data-pipeline-maymobility\n",
      "japan-logs-maymobility\n",
      "lfs-objects.code.maymobility.com\n",
      "live.its.maymobility.com\n",
      "live.maymobility.com\n",
      "log-deletion-maymobility\n",
      "log-test.maymobility.com\n",
      "log.japan.maymobility.com\n",
      "log.maymobility.com\n",
      "may-reference-logs\n",
      "may-root-tfstate-us-east-1\n",
      "may-scaleapi-interface\n",
      "may-veeam-replication\n",
      "may.network\n",
      "maymobility.com\n",
      "maymobility.jp\n",
      "nas-backup.maymobility.com\n",
      "ohio-snow\n",
      "ohio-snow.log.maymobility.com\n",
      "ottometric.maymobility.com\n",
      "packages.code.maymobility.com\n",
      "pages.code.maymobility.com\n",
      "playment.simdata.maymobility.com\n",
      "providence-data-api-prod-serverlessdeploymentbuck-1d2484el9pr81\n",
      "providence-data-api-test-serverlessdeploymentbuck-1deofsjhkz61j\n",
      "remote-work-ap\n",
      "s3.snow.log\n",
      "sagemaker-maymobility-com\n",
      "sagemaker.simdata.maymobility.com\n",
      "scaleapi.simdata.maymobility.com\n",
      "section31.may.network\n",
      "serverless-slack-dev-serverlessdeploymentbucket-1fudj1bp1aqie\n",
      "simian.simdata.maymobility.com\n",
      "slack.maymobility.com\n",
      "snow.log.maymobility.com\n",
      "terraform-state.code.maymobility.com\n",
      "tmp.maymobility.com\n",
      "tsig-classifications.annotations.simdata.maymobility.com\n",
      "uploads.code.maymobility.com\n",
      "use1.parent.tf-state.maymobility.com\n",
      "www.maymobility.com\n"
     ]
    }
   ],
   "source": [
    "# Print out bucket names\n",
    "for bucket in s3.buckets.all():\n",
    "    print(bucket.name)"
   ]
  },
  {
   "cell_type": "code",
   "execution_count": 4,
   "id": "c8279d6c",
   "metadata": {},
   "outputs": [],
   "source": [
    "# parameters\n",
    "buck_name = 'log.maymobility.com'\n",
    "conn = client('s3')\n",
    "bucket = s3.Bucket(buck_name)\n",
    "folder_name = ['columbus','detroit','providence']\n",
    "early_date = {'columbus':'2018-11-06','detroit':'2018-10-29','providence':'2019-02-18'}"
   ]
  },
  {
   "cell_type": "code",
   "execution_count": 63,
   "id": "f88bcf8d",
   "metadata": {},
   "outputs": [],
   "source": [
    "columbus_key = []\n",
    "detroit_key = []\n",
    "providence_key = []\n",
    "for obj in bucket.objects.all():\n",
    "    key = obj.key\n",
    "    if ('columbus' in key):\n",
    "        columbus_key.append(key)\n",
    "    elif ('detroit' in key):\n",
    "        detroit_key.append(key)\n",
    "    elif ('providence' in key):\n",
    "        providence_key.append(key)"
   ]
  },
  {
   "cell_type": "code",
   "execution_count": 136,
   "id": "6ad7c30f",
   "metadata": {},
   "outputs": [],
   "source": [
    "columbus = pd.DataFrame([x.split('/') for x in columbus_key])\n",
    "detroit = pd.DataFrame([x.split('/') for x in detroit_key])\n",
    "providence= pd.DataFrame([x.split('/') for x in providence_key])"
   ]
  },
  {
   "cell_type": "code",
   "execution_count": 210,
   "id": "61f33e2e",
   "metadata": {
    "scrolled": true
   },
   "outputs": [],
   "source": [
    "not_time_list = ['config',\n",
    " 'dev-retrea',\n",
    " 'exhaust-lo',\n",
    " 'keep_long_',\n",
    " 'map-ref-lo',\n",
    " 'mcmlog_201',\n",
    " 'mcmlog_202',\n",
    " 'ops_logs',\n",
    " 'providence',\n",
    " 'ogs',\n",
    " 'may',\n",
    " 'snippets',\n",
    " 'snips',\n",
    " 'syslogs','logs']"
   ]
  },
  {
   "cell_type": "code",
   "execution_count": 211,
   "id": "0ad311ed",
   "metadata": {},
   "outputs": [],
   "source": [
    "def select_pre_logs(site_name,data):\n",
    "    data[0] = data[0].str.strip()\n",
    "    data['folder_time'] = data[0].str.slice(0,10)\n",
    "    data = data[~data['folder_time'].isin(not_time_list)] # drop no time one\n",
    "    data['folder_time'] = data.folder_time.str.replace('_','-')\n",
    "    data.folder_time = pd.to_datetime(data.folder_time)# change time type\n",
    "    data['pre'] = np.array(data.folder_time < pd.to_datetime(early_date[site_name]))\n",
    "    return data"
   ]
  },
  {
   "cell_type": "code",
   "execution_count": 212,
   "id": "e8f2ce3c",
   "metadata": {},
   "outputs": [
    {
     "name": "stderr",
     "output_type": "stream",
     "text": [
      "/var/folders/57/p4z_h0711cx5h0by91hbgqdc0000gp/T/ipykernel_24920/3474141406.py:5: SettingWithCopyWarning: \n",
      "A value is trying to be set on a copy of a slice from a DataFrame.\n",
      "Try using .loc[row_indexer,col_indexer] = value instead\n",
      "\n",
      "See the caveats in the documentation: https://pandas.pydata.org/pandas-docs/stable/user_guide/indexing.html#returning-a-view-versus-a-copy\n",
      "  data['folder_time'] = data.folder_time.str.replace('_','-')\n",
      "/var/folders/57/p4z_h0711cx5h0by91hbgqdc0000gp/T/ipykernel_24920/3474141406.py:7: SettingWithCopyWarning: \n",
      "A value is trying to be set on a copy of a slice from a DataFrame.\n",
      "Try using .loc[row_indexer,col_indexer] = value instead\n",
      "\n",
      "See the caveats in the documentation: https://pandas.pydata.org/pandas-docs/stable/user_guide/indexing.html#returning-a-view-versus-a-copy\n",
      "  data['pre'] = np.array(data.folder_time < pd.to_datetime(early_date[site_name]))\n"
     ]
    }
   ],
   "source": [
    "columbus_pre = select_pre_logs('columbus',columbus)\n",
    "detroit_pre = select_pre_logs('detroit',detroit)\n",
    "providence_pre = select_pre_logs('providence',providence)"
   ]
  },
  {
   "cell_type": "code",
   "execution_count": 251,
   "id": "a042a13b",
   "metadata": {},
   "outputs": [],
   "source": [
    "columbus_pre = columbus_pre[[0,1,2]].fillna('')\n",
    "columbus_pre = columbus_pre[[0,1,2]].agg('/'.join, axis=1)\n",
    "detroit_pre = detroit_pre[[0,1,2]].fillna('')\n",
    "detroit_pre = detroit_pre[[0,1,2]].agg('/'.join, axis=1)\n",
    "providence_pre = providence_pre[[0,1,2]].fillna('')\n",
    "providence_pre = providence_pre[[0,1,2]].agg('/'.join, axis=1)"
   ]
  },
  {
   "cell_type": "code",
   "execution_count": 256,
   "id": "b32df72a",
   "metadata": {},
   "outputs": [],
   "source": [
    "columbus_pre = columbus_pre.drop_duplicates()\n",
    "detroit_pre = detroit_pre.drop_duplicates()\n",
    "providence_pre = providence_pre.drop_duplicates()"
   ]
  },
  {
   "cell_type": "code",
   "execution_count": 262,
   "id": "15865d37",
   "metadata": {},
   "outputs": [],
   "source": [
    "columbus_pre = pd.DataFrame(columbus_pre,columns = ['log_name'])\n",
    "detroit_pre = pd.DataFrame(detroit_pre,columns = ['log_name'])\n",
    "providence_pre = pd.DataFrame(providence_pre,columns = ['log_name'])"
   ]
  },
  {
   "cell_type": "code",
   "execution_count": 263,
   "id": "d1d59537",
   "metadata": {},
   "outputs": [],
   "source": [
    "columbus_pre.to_csv('columbus_pre.csv')\n",
    "detroit_pre.to_csv('detroit_pre.csv')\n",
    "providence_pre.to_csv('providence_pre.csv')"
   ]
  },
  {
   "cell_type": "code",
   "execution_count": null,
   "id": "e1e122cf",
   "metadata": {},
   "outputs": [],
   "source": []
  }
 ],
 "metadata": {
  "kernelspec": {
   "display_name": "Python 3 (ipykernel)",
   "language": "python",
   "name": "python3"
  },
  "language_info": {
   "codemirror_mode": {
    "name": "ipython",
    "version": 3
   },
   "file_extension": ".py",
   "mimetype": "text/x-python",
   "name": "python",
   "nbconvert_exporter": "python",
   "pygments_lexer": "ipython3",
   "version": "3.9.7"
  }
 },
 "nbformat": 4,
 "nbformat_minor": 5
}
