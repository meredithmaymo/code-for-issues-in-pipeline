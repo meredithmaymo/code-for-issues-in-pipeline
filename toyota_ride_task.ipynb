{
 "cells": [
  {
   "cell_type": "code",
   "execution_count": 54,
   "id": "60666e1f",
   "metadata": {},
   "outputs": [],
   "source": [
    "import pandas as pd\n",
    "import numpy as np\n",
    "import datetime"
   ]
  },
  {
   "cell_type": "code",
   "execution_count": 56,
   "id": "20245c90",
   "metadata": {},
   "outputs": [],
   "source": [
    "ar = pd.read_csv('/Users/meredithmay/Downloads/ann_arbor_ridership.csv')\n",
    "al = pd.read_csv('/Users/meredithmay/Downloads/arl_ride.csv')\n",
    "indy = pd.read_csv('/Users/meredithmay/Downloads/indy_ridership.csv')\n",
    "hiro = pd.read_csv('/Users/meredithmay/Downloads/hiroshima_ride.csv')"
   ]
  },
  {
   "cell_type": "code",
   "execution_count": 40,
   "id": "b4ba6eab",
   "metadata": {},
   "outputs": [],
   "source": [
    "indy.date = pd.to_datetime(indy.date)\n",
    "indy['month'] = indy.date.dt.strftime('%Y-%m')\n",
    "indy_ridecount = indy.groupby(by = ['month','station']).pickup.sum()\n",
    "indy_ridecount.to_csv('indy_ridecount.csv')"
   ]
  },
  {
   "cell_type": "code",
   "execution_count": 48,
   "id": "d4620024",
   "metadata": {},
   "outputs": [],
   "source": [
    "ar_ridecount = ar.groupby(by = ['month','pickup_intersection']).ct.sum()\n",
    "ar_ridecount.to_csv('ar_ridecount.csv')"
   ]
  },
  {
   "cell_type": "code",
   "execution_count": 59,
   "id": "26b5f2ba",
   "metadata": {},
   "outputs": [],
   "source": [
    "al.date = pd.to_datetime(al.date)\n",
    "al['month'] = al.date.dt.strftime('%Y-%m')\n",
    "al_ridecount = al.groupby(by = ['month']).riders.sum()\n",
    "al_ridecount.to_csv('al_ridecount.csv')"
   ]
  },
  {
   "cell_type": "code",
   "execution_count": 57,
   "id": "f4018d85",
   "metadata": {},
   "outputs": [],
   "source": [
    "hiro.date = pd.to_datetime(hiro.date)\n",
    "hiro['month'] = hiro.date.dt.strftime('%Y-%m')\n",
    "hiro_ridecount = hiro.groupby(by = ['month','station']).pickup.sum()\n",
    "hiro_ridecount.to_csv('hiro_ridecount.csv')"
   ]
  },
  {
   "cell_type": "code",
   "execution_count": 62,
   "id": "776c0181",
   "metadata": {},
   "outputs": [],
   "source": [
    "gr_ods = pd.read_csv('/Users/meredithmay/Downloads/grand_rapids_ridership_ods.csv')\n",
    "gr_fixed = pd.read_csv('/Users/meredithmay/Downloads/grand_rapids_ridership_fixedroute_csv.csv')"
   ]
  },
  {
   "cell_type": "code",
   "execution_count": 78,
   "id": "c70982d6",
   "metadata": {},
   "outputs": [
    {
     "data": {
      "text/html": [
       "<div>\n",
       "<style scoped>\n",
       "    .dataframe tbody tr th:only-of-type {\n",
       "        vertical-align: middle;\n",
       "    }\n",
       "\n",
       "    .dataframe tbody tr th {\n",
       "        vertical-align: top;\n",
       "    }\n",
       "\n",
       "    .dataframe thead th {\n",
       "        text-align: right;\n",
       "    }\n",
       "</style>\n",
       "<table border=\"1\" class=\"dataframe\">\n",
       "  <thead>\n",
       "    <tr style=\"text-align: right;\">\n",
       "      <th></th>\n",
       "      <th>month</th>\n",
       "      <th>pickup_intersection</th>\n",
       "      <th>ct</th>\n",
       "    </tr>\n",
       "  </thead>\n",
       "  <tbody>\n",
       "    <tr>\n",
       "      <th>0</th>\n",
       "      <td>7</td>\n",
       "      <td>YMCA</td>\n",
       "      <td>23</td>\n",
       "    </tr>\n",
       "    <tr>\n",
       "      <th>1</th>\n",
       "      <td>7</td>\n",
       "      <td>Van Andel</td>\n",
       "      <td>2</td>\n",
       "    </tr>\n",
       "    <tr>\n",
       "      <th>2</th>\n",
       "      <td>7</td>\n",
       "      <td>Studio Park</td>\n",
       "      <td>10</td>\n",
       "    </tr>\n",
       "    <tr>\n",
       "      <th>3</th>\n",
       "      <td>7</td>\n",
       "      <td>Seward 9S</td>\n",
       "      <td>29</td>\n",
       "    </tr>\n",
       "    <tr>\n",
       "      <th>4</th>\n",
       "      <td>7</td>\n",
       "      <td>Seward 9N</td>\n",
       "      <td>87</td>\n",
       "    </tr>\n",
       "    <tr>\n",
       "      <th>...</th>\n",
       "      <td>...</td>\n",
       "      <td>...</td>\n",
       "      <td>...</td>\n",
       "    </tr>\n",
       "    <tr>\n",
       "      <th>168</th>\n",
       "      <td>12</td>\n",
       "      <td>Printing Co.</td>\n",
       "      <td>2</td>\n",
       "    </tr>\n",
       "    <tr>\n",
       "      <th>169</th>\n",
       "      <td>12</td>\n",
       "      <td>Seward at North Lot NB</td>\n",
       "      <td>1</td>\n",
       "    </tr>\n",
       "    <tr>\n",
       "      <th>170</th>\n",
       "      <td>12</td>\n",
       "      <td>Seward at South Lot NB</td>\n",
       "      <td>30</td>\n",
       "    </tr>\n",
       "    <tr>\n",
       "      <th>171</th>\n",
       "      <td>12</td>\n",
       "      <td>Studio Park</td>\n",
       "      <td>12</td>\n",
       "    </tr>\n",
       "    <tr>\n",
       "      <th>172</th>\n",
       "      <td>12</td>\n",
       "      <td>Van Andel</td>\n",
       "      <td>2</td>\n",
       "    </tr>\n",
       "  </tbody>\n",
       "</table>\n",
       "<p>193 rows × 3 columns</p>\n",
       "</div>"
      ],
      "text/plain": [
       "     month     pickup_intersection  ct\n",
       "0        7                    YMCA  23\n",
       "1        7               Van Andel   2\n",
       "2        7             Studio Park  10\n",
       "3        7               Seward 9S  29\n",
       "4        7               Seward 9N  87\n",
       "..     ...                     ...  ..\n",
       "168     12           Printing Co.    2\n",
       "169     12  Seward at North Lot NB   1\n",
       "170     12  Seward at South Lot NB  30\n",
       "171     12             Studio Park  12\n",
       "172     12               Van Andel   2\n",
       "\n",
       "[193 rows x 3 columns]"
      ]
     },
     "execution_count": 78,
     "metadata": {},
     "output_type": "execute_result"
    }
   ],
   "source": [
    "gr_fixed = gr_fixed.rename(columns = {'station':'pickup_intersection'})\n",
    "gr = pd.concat([gr_fixed,gr_ods])"
   ]
  },
  {
   "cell_type": "code",
   "execution_count": 81,
   "id": "180b7723",
   "metadata": {},
   "outputs": [],
   "source": [
    "gr_ridecount = gr.groupby(by = ['month','pickup_intersection']).ct.sum()\n",
    "gr_ridecount.to_csv('gr_ridecount.csv')"
   ]
  },
  {
   "cell_type": "markdown",
   "id": "dc413e0e",
   "metadata": {},
   "source": [
    "## SQL \n",
    "\n",
    "\n",
    "select *\n",
    "from ridership_manual \n",
    "where date between '2021-08-01' and '2022-01-31'"
   ]
  },
  {
   "cell_type": "code",
   "execution_count": null,
   "id": "4a24aaab",
   "metadata": {},
   "outputs": [],
   "source": []
  }
 ],
 "metadata": {
  "kernelspec": {
   "display_name": "Python 3 (ipykernel)",
   "language": "python",
   "name": "python3"
  },
  "language_info": {
   "codemirror_mode": {
    "name": "ipython",
    "version": 3
   },
   "file_extension": ".py",
   "mimetype": "text/x-python",
   "name": "python",
   "nbconvert_exporter": "python",
   "pygments_lexer": "ipython3",
   "version": "3.9.7"
  }
 },
 "nbformat": 4,
 "nbformat_minor": 5
}
