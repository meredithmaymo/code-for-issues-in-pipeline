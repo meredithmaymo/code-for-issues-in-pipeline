{
 "cells": [
  {
   "cell_type": "code",
   "execution_count": 57,
   "id": "4f30923b",
   "metadata": {},
   "outputs": [],
   "source": [
    "import pandas as pd\n",
    "import numpy as np\n",
    "import os\n",
    "import glob"
   ]
  },
  {
   "cell_type": "code",
   "execution_count": 58,
   "id": "69ec6113",
   "metadata": {},
   "outputs": [
    {
     "data": {
      "text/plain": [
       "['/Users/meredithmay/Downloads/delete_log_files/mercury_providence.csv',\n",
       " '/Users/meredithmay/Downloads/delete_log_files/detroit_pre.csv',\n",
       " '/Users/meredithmay/Downloads/delete_log_files/columbus_pre.csv',\n",
       " '/Users/meredithmay/Downloads/delete_log_files/mercury_columbus.csv',\n",
       " '/Users/meredithmay/Downloads/delete_log_files/mercury_detroit.csv',\n",
       " '/Users/meredithmay/Downloads/delete_log_files/providence_pre.csv']"
      ]
     },
     "execution_count": 58,
     "metadata": {},
     "output_type": "execute_result"
    }
   ],
   "source": [
    "path = os.getcwd()\n",
    "csv_files = glob.glob(os.path.join(path, \"*.csv\"))\n",
    "csv_files"
   ]
  },
  {
   "cell_type": "code",
   "execution_count": 59,
   "id": "af3bb276",
   "metadata": {},
   "outputs": [],
   "source": [
    "mercury_providence = pd.read_csv('/Users/meredithmay/Downloads/delete_log_files/mercury_providence.csv')\n",
    "mercury_columbus = pd.read_csv('/Users/meredithmay/Downloads/delete_log_files/mercury_columbus.csv')\n",
    "mercury_detroit = pd.read_csv('/Users/meredithmay/Downloads/delete_log_files/mercury_detroit.csv')\n",
    "\n",
    "detroit_pre = pd.read_csv('/Users/meredithmay/Downloads/delete_log_files/detroit_pre.csv')\n",
    "columbus_pre = pd.read_csv('/Users/meredithmay/Downloads/delete_log_files/columbus_pre.csv')\n",
    "providence_pre = pd.read_csv('/Users/meredithmay/Downloads/delete_log_files/providence_pre.csv')"
   ]
  },
  {
   "cell_type": "code",
   "execution_count": 60,
   "id": "a3912ca6",
   "metadata": {},
   "outputs": [],
   "source": [
    "def update_name(log_name):\n",
    "    log = log_name.split('/')[:-1]\n",
    "    result = '/'.join([x for x in log if (x !='')&('.' not in x)])\n",
    "    return result"
   ]
  },
  {
   "cell_type": "code",
   "execution_count": 72,
   "id": "215ff1b3",
   "metadata": {},
   "outputs": [],
   "source": [
    "detroit_pre_update = detroit_pre.apply(lambda x: update_name(x.log_name),axis = 1)\n",
    "columbus_pre_update = columbus_pre.apply(lambda x: update_name(x.log_name),axis = 1)\n",
    "providence_pre_update = providence_pre.apply(lambda x: update_name(x.log_name),axis = 1)"
   ]
  },
  {
   "cell_type": "code",
   "execution_count": 75,
   "id": "10bfc81e",
   "metadata": {},
   "outputs": [],
   "source": [
    "columbus_pre_update = pd.DataFrame(columbus_pre_update.unique())\n",
    "columbus_pre_update.to_csv('columbus_pre_update.csv')"
   ]
  },
  {
   "cell_type": "code",
   "execution_count": null,
   "id": "36fc70c6",
   "metadata": {},
   "outputs": [],
   "source": [
    "detroit_pre_update = pd.DataFrame(detroit_pre_update.unique())\n",
    "detroit_pre_update.to_csv('detroit_pre_update.csv')"
   ]
  },
  {
   "cell_type": "code",
   "execution_count": 76,
   "id": "b43e475c",
   "metadata": {},
   "outputs": [],
   "source": [
    "providence_pre_update = pd.DataFrame(providence_pre_update.unique())\n",
    "providence_pre_update.to_csv('detroit_pre_update.csv')"
   ]
  },
  {
   "cell_type": "code",
   "execution_count": 81,
   "id": "2c05627b",
   "metadata": {},
   "outputs": [
    {
     "data": {
      "text/plain": [
       "0        [2019-02-18, maitri, providence/mcmlog, 2019-0...\n",
       "1        [2019-02-18, maitri, providence/mcmlog, 2019-0...\n",
       "2        [2019-02-18, maitri, providence/mcmlog, 2019-0...\n",
       "3        [2019-02-18, maitri, providence/mcmlog, 2019-0...\n",
       "4        [2019-02-18, maitri, providence/mcmlog, 2019-0...\n",
       "                               ...                        \n",
       "14347    [2020-05-26, mystery, providence/mcmlog, 2020-...\n",
       "14348    [2020-06-01, majel, providence/mcmlog, 2020-06...\n",
       "14349    [2020-06-01, majel, providence/mcmlog, 2020-06...\n",
       "14350    [2020-06-01, marimba, providence/mcmlog, 2020-...\n",
       "14351    [2020-06-01, matcha, providence/mcmlog, 2020-0...\n",
       "Name: log_name, Length: 14352, dtype: object"
      ]
     },
     "execution_count": 81,
     "metadata": {},
     "output_type": "execute_result"
    }
   ],
   "source": [
    "mercury_providence.log_name.str.split('_')"
   ]
  },
  {
   "cell_type": "code",
   "execution_count": 91,
   "id": "62db74a7",
   "metadata": {},
   "outputs": [],
   "source": [
    "def update_dash(log_name):\n",
    "    log = log_name.split('_')\n",
    "    log[1] = 'dash'\n",
    "    result = '_'.join([x for x in log])\n",
    "    return result"
   ]
  },
  {
   "cell_type": "code",
   "execution_count": 92,
   "id": "83feeb0d",
   "metadata": {},
   "outputs": [
    {
     "data": {
      "text/html": [
       "<div>\n",
       "<style scoped>\n",
       "    .dataframe tbody tr th:only-of-type {\n",
       "        vertical-align: middle;\n",
       "    }\n",
       "\n",
       "    .dataframe tbody tr th {\n",
       "        vertical-align: top;\n",
       "    }\n",
       "\n",
       "    .dataframe thead th {\n",
       "        text-align: right;\n",
       "    }\n",
       "</style>\n",
       "<table border=\"1\" class=\"dataframe\">\n",
       "  <thead>\n",
       "    <tr style=\"text-align: right;\">\n",
       "      <th></th>\n",
       "      <th>log_name</th>\n",
       "      <th>new_column</th>\n",
       "    </tr>\n",
       "  </thead>\n",
       "  <tbody>\n",
       "    <tr>\n",
       "      <th>0</th>\n",
       "      <td>2019-02-18_maitri_providence/mcmlog_2019-02-18...</td>\n",
       "      <td>2019-02-18_maitri_providence/mcmlog_2019-02-18...</td>\n",
       "    </tr>\n",
       "    <tr>\n",
       "      <th>1</th>\n",
       "      <td>2019-02-18_maitri_providence/mcmlog_2019-02-18...</td>\n",
       "      <td>2019-02-18_maitri_providence/mcmlog_2019-02-18...</td>\n",
       "    </tr>\n",
       "    <tr>\n",
       "      <th>2</th>\n",
       "      <td>2019-02-18_maitri_providence/mcmlog_2019-02-18...</td>\n",
       "      <td>2019-02-18_maitri_providence/mcmlog_2019-02-18...</td>\n",
       "    </tr>\n",
       "    <tr>\n",
       "      <th>3</th>\n",
       "      <td>2019-02-18_maitri_providence/mcmlog_2019-02-18...</td>\n",
       "      <td>2019-02-18_maitri_providence/mcmlog_2019-02-18...</td>\n",
       "    </tr>\n",
       "    <tr>\n",
       "      <th>4</th>\n",
       "      <td>2019-02-18_maitri_providence/mcmlog_2019-02-18...</td>\n",
       "      <td>2019-02-18_maitri_providence/mcmlog_2019-02-18...</td>\n",
       "    </tr>\n",
       "    <tr>\n",
       "      <th>...</th>\n",
       "      <td>...</td>\n",
       "      <td>...</td>\n",
       "    </tr>\n",
       "    <tr>\n",
       "      <th>14347</th>\n",
       "      <td>2020-05-26_mystery_providence/mcmlog_2020-05-2...</td>\n",
       "      <td>2020-05-26_mystery_providence/mcmlog_2020-05-2...</td>\n",
       "    </tr>\n",
       "    <tr>\n",
       "      <th>14348</th>\n",
       "      <td>2020-06-01_majel_providence/mcmlog_2020-06-01_...</td>\n",
       "      <td>2020-06-01_majel_providence/mcmlog_2020-06-01_...</td>\n",
       "    </tr>\n",
       "    <tr>\n",
       "      <th>14349</th>\n",
       "      <td>2020-06-01_majel_providence/mcmlog_2020-06-01_...</td>\n",
       "      <td>2020-06-01_majel_providence/mcmlog_2020-06-01_...</td>\n",
       "    </tr>\n",
       "    <tr>\n",
       "      <th>14350</th>\n",
       "      <td>2020-06-01_marimba_providence/mcmlog_2020-06-0...</td>\n",
       "      <td>2020-06-01_marimba_providence/mcmlog_2020-06-0...</td>\n",
       "    </tr>\n",
       "    <tr>\n",
       "      <th>14351</th>\n",
       "      <td>2020-06-01_matcha_providence/mcmlog_2020-06-01...</td>\n",
       "      <td>2020-06-01_matcha_providence/mcmlog_2020-06-01...</td>\n",
       "    </tr>\n",
       "  </tbody>\n",
       "</table>\n",
       "<p>14352 rows × 2 columns</p>\n",
       "</div>"
      ],
      "text/plain": [
       "                                                log_name  \\\n",
       "0      2019-02-18_maitri_providence/mcmlog_2019-02-18...   \n",
       "1      2019-02-18_maitri_providence/mcmlog_2019-02-18...   \n",
       "2      2019-02-18_maitri_providence/mcmlog_2019-02-18...   \n",
       "3      2019-02-18_maitri_providence/mcmlog_2019-02-18...   \n",
       "4      2019-02-18_maitri_providence/mcmlog_2019-02-18...   \n",
       "...                                                  ...   \n",
       "14347  2020-05-26_mystery_providence/mcmlog_2020-05-2...   \n",
       "14348  2020-06-01_majel_providence/mcmlog_2020-06-01_...   \n",
       "14349  2020-06-01_majel_providence/mcmlog_2020-06-01_...   \n",
       "14350  2020-06-01_marimba_providence/mcmlog_2020-06-0...   \n",
       "14351  2020-06-01_matcha_providence/mcmlog_2020-06-01...   \n",
       "\n",
       "                                              new_column  \n",
       "0      2019-02-18_maitri_providence/mcmlog_2019-02-18...  \n",
       "1      2019-02-18_maitri_providence/mcmlog_2019-02-18...  \n",
       "2      2019-02-18_maitri_providence/mcmlog_2019-02-18...  \n",
       "3      2019-02-18_maitri_providence/mcmlog_2019-02-18...  \n",
       "4      2019-02-18_maitri_providence/mcmlog_2019-02-18...  \n",
       "...                                                  ...  \n",
       "14347  2020-05-26_mystery_providence/mcmlog_2020-05-2...  \n",
       "14348  2020-06-01_majel_providence/mcmlog_2020-06-01_...  \n",
       "14349  2020-06-01_majel_providence/mcmlog_2020-06-01_...  \n",
       "14350  2020-06-01_marimba_providence/mcmlog_2020-06-0...  \n",
       "14351  2020-06-01_matcha_providence/mcmlog_2020-06-01...  \n",
       "\n",
       "[14352 rows x 2 columns]"
      ]
     },
     "execution_count": 92,
     "metadata": {},
     "output_type": "execute_result"
    }
   ],
   "source": [
    "mercury_providence"
   ]
  },
  {
   "cell_type": "code",
   "execution_count": 93,
   "id": "4ec35bf0",
   "metadata": {},
   "outputs": [],
   "source": [
    "mercury_providence['log_name'] = mercury_providence.apply(lambda x: update_dash(x.log_name),axis = 1)\n",
    "mercury_providence['new_column'] = mercury_providence.apply(lambda x: update_dash(x.new_column),axis = 1)\n",
    "mercury_columbus['log_name'] = mercury_columbus.apply(lambda x: update_dash(x.log_name),axis = 1)\n",
    "mercury_columbus['new_column'] = mercury_columbus.apply(lambda x: update_dash(x.new_column),axis = 1)\n",
    "mercury_detroit['log_name'] = mercury_detroit.apply(lambda x: update_dash(x.log_name),axis = 1)\n",
    "mercury_detroit['new_column'] = mercury_detroit.apply(lambda x: update_dash(x.new_column),axis = 1)"
   ]
  },
  {
   "cell_type": "code",
   "execution_count": 97,
   "id": "0bf748cd",
   "metadata": {},
   "outputs": [],
   "source": [
    "mercury_providence.to_csv('mercury_providence_update.csv')\n",
    "mercury_columbus.to_csv('mercury_columbus_update.csv')\n",
    "mercury_detroit.to_csv('mercury_detroit_update.csv')"
   ]
  },
  {
   "cell_type": "code",
   "execution_count": null,
   "id": "6c71f3a1",
   "metadata": {},
   "outputs": [],
   "source": []
  }
 ],
 "metadata": {
  "kernelspec": {
   "display_name": "Python 3 (ipykernel)",
   "language": "python",
   "name": "python3"
  },
  "language_info": {
   "codemirror_mode": {
    "name": "ipython",
    "version": 3
   },
   "file_extension": ".py",
   "mimetype": "text/x-python",
   "name": "python",
   "nbconvert_exporter": "python",
   "pygments_lexer": "ipython3",
   "version": "3.9.7"
  }
 },
 "nbformat": 4,
 "nbformat_minor": 5
}
