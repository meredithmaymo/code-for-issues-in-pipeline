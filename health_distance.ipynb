{
 "cells": [
  {
   "cell_type": "code",
   "execution_count": 1,
   "id": "cab36eed",
   "metadata": {},
   "outputs": [],
   "source": [
    "import pandas as pd\n",
    "import numpy as np\n",
    "import datetime"
   ]
  },
  {
   "cell_type": "code",
   "execution_count": 2,
   "id": "c7cd5d34",
   "metadata": {},
   "outputs": [],
   "source": [
    "al = pd.read_csv('/Users/meredithmay/Downloads/arlington.csv')\n",
    "indy = pd.read_csv('/Users/meredithmay/Downloads/indy.csv')\n",
    "gr = pd.read_csv('/Users/meredithmay/Downloads/gr.csv')\n",
    "arb = pd.read_csv('/Users/meredithmay/Downloads/arb.csv')\n",
    "hiro = pd.read_csv('/Users/meredithmay/Downloads/hiro.csv')"
   ]
  },
  {
   "cell_type": "code",
   "execution_count": 14,
   "id": "c54b8701",
   "metadata": {},
   "outputs": [
    {
     "data": {
      "text/html": [
       "<div>\n",
       "<style scoped>\n",
       "    .dataframe tbody tr th:only-of-type {\n",
       "        vertical-align: middle;\n",
       "    }\n",
       "\n",
       "    .dataframe tbody tr th {\n",
       "        vertical-align: top;\n",
       "    }\n",
       "\n",
       "    .dataframe thead th {\n",
       "        text-align: right;\n",
       "    }\n",
       "</style>\n",
       "<table border=\"1\" class=\"dataframe\">\n",
       "  <thead>\n",
       "    <tr style=\"text-align: right;\">\n",
       "      <th></th>\n",
       "      <th>date</th>\n",
       "      <th>distance_healthy</th>\n",
       "      <th>distance_autonomous</th>\n",
       "    </tr>\n",
       "  </thead>\n",
       "  <tbody>\n",
       "    <tr>\n",
       "      <th>0</th>\n",
       "      <td>2021-12-23</td>\n",
       "      <td>11410.156</td>\n",
       "      <td>7328.125</td>\n",
       "    </tr>\n",
       "    <tr>\n",
       "      <th>1</th>\n",
       "      <td>2021-08-03</td>\n",
       "      <td>0.000</td>\n",
       "      <td>0.000</td>\n",
       "    </tr>\n",
       "    <tr>\n",
       "      <th>2</th>\n",
       "      <td>2021-08-02</td>\n",
       "      <td>1554.691</td>\n",
       "      <td>957.030</td>\n",
       "    </tr>\n",
       "    <tr>\n",
       "      <th>3</th>\n",
       "      <td>2021-08-17</td>\n",
       "      <td>17636.720</td>\n",
       "      <td>19.531</td>\n",
       "    </tr>\n",
       "    <tr>\n",
       "      <th>4</th>\n",
       "      <td>2021-08-23</td>\n",
       "      <td>4945.311</td>\n",
       "      <td>4308.592</td>\n",
       "    </tr>\n",
       "    <tr>\n",
       "      <th>...</th>\n",
       "      <td>...</td>\n",
       "      <td>...</td>\n",
       "      <td>...</td>\n",
       "    </tr>\n",
       "    <tr>\n",
       "      <th>414</th>\n",
       "      <td>2022-01-31</td>\n",
       "      <td>8761.719</td>\n",
       "      <td>4804.686</td>\n",
       "    </tr>\n",
       "    <tr>\n",
       "      <th>415</th>\n",
       "      <td>2022-01-31</td>\n",
       "      <td>6511.719</td>\n",
       "      <td>2679.687</td>\n",
       "    </tr>\n",
       "    <tr>\n",
       "      <th>416</th>\n",
       "      <td>2022-01-31</td>\n",
       "      <td>6066.406</td>\n",
       "      <td>2671.876</td>\n",
       "    </tr>\n",
       "    <tr>\n",
       "      <th>417</th>\n",
       "      <td>2022-01-31</td>\n",
       "      <td>4113.281</td>\n",
       "      <td>2695.312</td>\n",
       "    </tr>\n",
       "    <tr>\n",
       "      <th>418</th>\n",
       "      <td>2022-01-31</td>\n",
       "      <td>13800.783</td>\n",
       "      <td>6863.280</td>\n",
       "    </tr>\n",
       "  </tbody>\n",
       "</table>\n",
       "<p>419 rows × 3 columns</p>\n",
       "</div>"
      ],
      "text/plain": [
       "           date  distance_healthy  distance_autonomous\n",
       "0    2021-12-23         11410.156             7328.125\n",
       "1    2021-08-03             0.000                0.000\n",
       "2    2021-08-02          1554.691              957.030\n",
       "3    2021-08-17         17636.720               19.531\n",
       "4    2021-08-23          4945.311             4308.592\n",
       "..          ...               ...                  ...\n",
       "414  2022-01-31          8761.719             4804.686\n",
       "415  2022-01-31          6511.719             2679.687\n",
       "416  2022-01-31          6066.406             2671.876\n",
       "417  2022-01-31          4113.281             2695.312\n",
       "418  2022-01-31         13800.783             6863.280\n",
       "\n",
       "[419 rows x 3 columns]"
      ]
     },
     "execution_count": 14,
     "metadata": {},
     "output_type": "execute_result"
    }
   ],
   "source": [
    "hiro"
   ]
  },
  {
   "cell_type": "code",
   "execution_count": 5,
   "id": "a15cf62a",
   "metadata": {},
   "outputs": [],
   "source": [
    "indy.date = pd.to_datetime(indy.date)\n",
    "indy['month'] = indy.date.dt.strftime('%Y-%m')\n",
    "indy_distance = indy.groupby(by = ['month'])[['distance_healthy','distance_autonomous']].sum()\n",
    "indy_distance.to_csv('indy_distance.csv')\n"
   ]
  },
  {
   "cell_type": "code",
   "execution_count": 8,
   "id": "317696d3",
   "metadata": {},
   "outputs": [],
   "source": [
    "al.date = pd.to_datetime(al.date)\n",
    "al['month'] = al.date.dt.strftime('%Y-%m')\n",
    "al_distance = al.groupby(by = ['month'])[['distance_healthy','distance_autonomous']].sum()\n",
    "al_distance.to_csv('al_distance.csv')"
   ]
  },
  {
   "cell_type": "code",
   "execution_count": 11,
   "id": "8d6b2cd7",
   "metadata": {},
   "outputs": [],
   "source": [
    "arb.date = pd.to_datetime(arb.date)\n",
    "arb['month'] = arb.date.dt.strftime('%Y-%m')\n",
    "arb_distance = arb.groupby(by = ['month'])[['distance_healthy','distance_autonomous']].sum()\n",
    "arb_distance.to_csv('arb_distance.csv')"
   ]
  },
  {
   "cell_type": "code",
   "execution_count": 13,
   "id": "69802dde",
   "metadata": {},
   "outputs": [],
   "source": [
    "gr.date = pd.to_datetime(gr.date)\n",
    "gr['month'] = gr.date.dt.strftime('%Y-%m')\n",
    "gr_distance = gr.groupby(by = ['month'])[['distance_healthy','distance_autonomous']].sum()\n",
    "gr_distance.to_csv('gr_distance.csv')\n"
   ]
  },
  {
   "cell_type": "code",
   "execution_count": 15,
   "id": "7f6db01f",
   "metadata": {},
   "outputs": [],
   "source": [
    "hiro.date = pd.to_datetime(hiro.date)\n",
    "hiro['month'] = hiro.date.dt.strftime('%Y-%m')\n",
    "hiro_distance = hiro.groupby(by = ['month'])[['distance_healthy','distance_autonomous']].sum()\n",
    "hiro_distance.to_csv('hiro_distance.csv')\n"
   ]
  },
  {
   "cell_type": "markdown",
   "id": "90bd7f90",
   "metadata": {},
   "source": [
    "## SQL \n",
    "\n",
    " select date(start_time), distance_healthy, distance_autonomous\n",
    "from vehicle_logs\n",
    "where is_prod = true and date(start_time) between '2021-08-01' and '2022-01-31'\n",
    "\n",
    "\n"
   ]
  },
  {
   "cell_type": "code",
   "execution_count": null,
   "id": "89d66d91",
   "metadata": {},
   "outputs": [],
   "source": []
  }
 ],
 "metadata": {
  "kernelspec": {
   "display_name": "Python 3 (ipykernel)",
   "language": "python",
   "name": "python3"
  },
  "language_info": {
   "codemirror_mode": {
    "name": "ipython",
    "version": 3
   },
   "file_extension": ".py",
   "mimetype": "text/x-python",
   "name": "python",
   "nbconvert_exporter": "python",
   "pygments_lexer": "ipython3",
   "version": "3.9.7"
  }
 },
 "nbformat": 4,
 "nbformat_minor": 5
}
