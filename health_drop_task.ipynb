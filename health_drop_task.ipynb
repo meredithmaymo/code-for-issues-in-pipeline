{
 "cells": [
  {
   "cell_type": "code",
   "execution_count": 1,
   "id": "d18a2378",
   "metadata": {},
   "outputs": [],
   "source": [
    "import pandas as pd\n",
    "import numpy as np"
   ]
  },
  {
   "cell_type": "code",
   "execution_count": 2,
   "id": "0b6cf66a",
   "metadata": {},
   "outputs": [],
   "source": [
    "ar = pd.read_csv('/Users/meredithmay/Downloads/arb.csv')\n",
    "al = pd.read_csv('/Users/meredithmay/Downloads/arl.csv')\n",
    "indy = pd.read_csv('/Users/meredithmay/Downloads/indy.csv')\n",
    "gr = pd.read_csv('/Users/meredithmay/Downloads/gr.csv')"
   ]
  },
  {
   "cell_type": "code",
   "execution_count": 3,
   "id": "56e4b8ab",
   "metadata": {
    "scrolled": true
   },
   "outputs": [],
   "source": [
    "whole = ar.merge(al,on = ['uid_causing_drop','error_reason','sw_version','drop_health_level'],how = 'outer',suffixes = ['_ar','_al'])\n",
    "whole = whole.merge(indy,on = ['uid_causing_drop','error_reason','sw_version','drop_health_level'],how = 'outer')\n",
    "whole = whole.merge(gr,on = ['uid_causing_drop','error_reason','sw_version','drop_health_level'],how = 'outer')\n"
   ]
  },
  {
   "cell_type": "code",
   "execution_count": 4,
   "id": "5ee4b744",
   "metadata": {},
   "outputs": [],
   "source": [
    "whole = whole.fillna(0)"
   ]
  },
  {
   "cell_type": "code",
   "execution_count": 5,
   "id": "f094f215",
   "metadata": {},
   "outputs": [],
   "source": [
    "whole['number_of_occurance'] = whole.number_of_occurance_ar + whole.number_of_occurance_al + whole.number_of_occurance_x + whole.number_of_occurance_y"
   ]
  },
  {
   "cell_type": "code",
   "execution_count": 6,
   "id": "686c3347",
   "metadata": {},
   "outputs": [],
   "source": [
    "save = whole.drop(columns = [ 'number_of_occurance_ar', 'number_of_occurance_al', 'number_of_occurance_x', 'number_of_occurance_y'])"
   ]
  },
  {
   "cell_type": "code",
   "execution_count": 9,
   "id": "fcebc5e9",
   "metadata": {},
   "outputs": [],
   "source": [
    "save.to_csv('/Users/meredithmay/Downloads/wholesite.csv')"
   ]
  },
  {
   "cell_type": "markdown",
   "id": "a393e43e",
   "metadata": {},
   "source": [
    "## SQL "
   ]
  },
  {
   "cell_type": "markdown",
   "id": "2bc286a1",
   "metadata": {},
   "source": [
    "with cte as\n",
    "(\n",
    "\tselect v.git_branch, h.*\n",
    "\tfrom health_drops h\n",
    "\tjoin vehicle_logs v on v.log_name = h.log_name\n",
    "\twhere v.git_branch in ('release/7.0','release/7.1','release/7.3')\n",
    "\tand v.is_prod = true\n",
    "    and h.pre_run_level = 7\n",
    "\n",
    ")\n",
    "\n",
    "select uid_causing_drop, error_reason, sw_version, drop_health_level, count(*) as number_of_occurance\n",
    "from\n",
    "(select unnest(error_uid) as uid_causing_drop, unnest(error_uid_description) as error_reason, drop_health_level,\n",
    " git_branch as sw_version\n",
    "from cte) t\n",
    "group by uid_causing_drop, error_reason,sw_version, drop_health_level\n",
    "order by uid_causing_drop, error_reason,sw_version, number_of_occurance desc, drop_health_level desc"
   ]
  },
  {
   "cell_type": "markdown",
   "id": "891f1e01",
   "metadata": {},
   "source": [
    "create view meredith_health_drop_count_arb as\n",
    "(\n",
    "with cte as\n",
    "(\n",
    "\tselect v.git_branch, h.*\n",
    "\tfrom health_drops h\n",
    "\tjoin vehicle_logs v on v.log_name = h.log_name\n",
    "\twhere v.git_branch in ('release/7.0','release/7.1','release/7.3')\n",
    "\tand v.is_prod = true\n",
    "    and h.pre_run_level = 7)\n",
    "select uid_causing_drop, error_reason, sw_version, drop_health_level, count(*) as number_of_occurance\n",
    "from\n",
    "(select unnest(error_uid) as uid_causing_drop, unnest(error_uid_description) as error_reason, drop_health_level,\n",
    " git_branch as sw_version\n",
    "from cte) t\n",
    "group by uid_causing_drop, error_reason,sw_version, drop_health_level\n",
    "order by uid_causing_drop, error_reason,sw_version, number_of_occurance desc, drop_health_level desc)"
   ]
  },
  {
   "cell_type": "code",
   "execution_count": null,
   "id": "0785044c",
   "metadata": {},
   "outputs": [],
   "source": []
  }
 ],
 "metadata": {
  "kernelspec": {
   "display_name": "Python 3 (ipykernel)",
   "language": "python",
   "name": "python3"
  },
  "language_info": {
   "codemirror_mode": {
    "name": "ipython",
    "version": 3
   },
   "file_extension": ".py",
   "mimetype": "text/x-python",
   "name": "python",
   "nbconvert_exporter": "python",
   "pygments_lexer": "ipython3",
   "version": "3.9.7"
  }
 },
 "nbformat": 4,
 "nbformat_minor": 5
}
