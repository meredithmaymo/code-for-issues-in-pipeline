{
 "cells": [
  {
   "cell_type": "code",
   "execution_count": 1,
   "id": "066f0948",
   "metadata": {},
   "outputs": [],
   "source": [
    "import boto3\n",
    "import pandas as pd\n",
    "import numpy as np\n",
    "from boto3 import client\n",
    "import os\n",
    "# Let's use Amazon S3\n",
    "s3 = boto3.resource('s3')"
   ]
  },
  {
   "cell_type": "code",
   "execution_count": 2,
   "id": "df6f0ab4",
   "metadata": {},
   "outputs": [],
   "source": [
    "# parameters\n",
    "buck_name = 'log.maymobility.com'\n",
    "conn = client('s3')\n",
    "bucket = s3.Bucket(buck_name)\n",
    "folder_name = ['columbus','detroit','providence']\n",
    "early_date = {'columbus':'2018-11-06','detroit':'2018-10-29','providence':'2019-02-18'}"
   ]
  },
  {
   "cell_type": "code",
   "execution_count": null,
   "id": "c334e9bc",
   "metadata": {},
   "outputs": [],
   "source": []
  }
 ],
 "metadata": {
  "kernelspec": {
   "display_name": "Python 3 (ipykernel)",
   "language": "python",
   "name": "python3"
  },
  "language_info": {
   "codemirror_mode": {
    "name": "ipython",
    "version": 3
   },
   "file_extension": ".py",
   "mimetype": "text/x-python",
   "name": "python",
   "nbconvert_exporter": "python",
   "pygments_lexer": "ipython3",
   "version": "3.9.7"
  }
 },
 "nbformat": 4,
 "nbformat_minor": 5
}
